{
 "cells": [
  {
   "cell_type": "code",
   "execution_count": 1,
   "metadata": {},
   "outputs": [],
   "source": [
    "import requests\n",
    "from bs4 import BeautifulSoup\n",
    "import pandas as pd\n",
    "\n",
    "# URL of the webpage containing the table\n",
    "url = 'https://medicine.careers360.com/articles/neet-exam-centres'\n",
    "\n",
    "# Send a GET request to the URL\n",
    "response = requests.get(url)\n",
    "\n",
    "# Parse the HTML content of the webpage\n",
    "soup = BeautifulSoup(response.content, 'html.parser')\n",
    "\n",
    "# Find the table on the webpage\n",
    "table_div = soup.find('div', {'class': 'table_responsive'})\n",
    "table = table_div.find('table')\n",
    "\n",
    "# Extract the table headers\n",
    "headers = []\n",
    "for th in table.find_all('th'):\n",
    "    headers.append(th.text.strip())\n",
    "\n",
    "# Extract the table rows\n",
    "rows = []\n",
    "for tr in table.find_all('tr'):\n",
    "    cells = tr.find_all('td')\n",
    "    if len(cells) > 0:\n",
    "        row = [cell.text.strip() for cell in cells]\n",
    "        rows.append(row)\n",
    "\n",
    "df = pd.DataFrame(rows[1:], columns=rows[0])\n",
    "\n",
    "df.to_csv('neet_exam_centres.csv', index=False)\n"
   ]
  },
  {
   "cell_type": "code",
   "execution_count": 4,
   "metadata": {},
   "outputs": [
    {
     "data": {
      "text/html": [
       "<div>\n",
       "<style scoped>\n",
       "    .dataframe tbody tr th:only-of-type {\n",
       "        vertical-align: middle;\n",
       "    }\n",
       "\n",
       "    .dataframe tbody tr th {\n",
       "        vertical-align: top;\n",
       "    }\n",
       "\n",
       "    .dataframe thead th {\n",
       "        text-align: right;\n",
       "    }\n",
       "</style>\n",
       "<table border=\"1\" class=\"dataframe\">\n",
       "  <thead>\n",
       "    <tr style=\"text-align: right;\">\n",
       "      <th></th>\n",
       "      <th>S. No.</th>\n",
       "      <th>City Code</th>\n",
       "      <th>State</th>\n",
       "      <th>District</th>\n",
       "      <th>City</th>\n",
       "    </tr>\n",
       "  </thead>\n",
       "  <tbody>\n",
       "    <tr>\n",
       "      <th>0</th>\n",
       "      <td>1</td>\n",
       "      <td>1101</td>\n",
       "      <td>Andaman &amp; Nicobar Islands (UT)</td>\n",
       "      <td>South Andaman</td>\n",
       "      <td>Port Blair</td>\n",
       "    </tr>\n",
       "    <tr>\n",
       "      <th>1</th>\n",
       "      <td>2</td>\n",
       "      <td>1211</td>\n",
       "      <td>Andhra Pradesh</td>\n",
       "      <td>Guntur</td>\n",
       "      <td>Amaravathi</td>\n",
       "    </tr>\n",
       "    <tr>\n",
       "      <th>2</th>\n",
       "      <td>3</td>\n",
       "      <td>1212</td>\n",
       "      <td>Andhra Pradesh</td>\n",
       "      <td>Anantapur</td>\n",
       "      <td>Anantapur</td>\n",
       "    </tr>\n",
       "    <tr>\n",
       "      <th>3</th>\n",
       "      <td>4</td>\n",
       "      <td>1213</td>\n",
       "      <td>Andhra Pradesh</td>\n",
       "      <td>West Godavari</td>\n",
       "      <td>Bhimavaram</td>\n",
       "    </tr>\n",
       "    <tr>\n",
       "      <th>4</th>\n",
       "      <td>5</td>\n",
       "      <td>1214</td>\n",
       "      <td>Andhra Pradesh</td>\n",
       "      <td>Prakasam</td>\n",
       "      <td>Chirala</td>\n",
       "    </tr>\n",
       "    <tr>\n",
       "      <th>5</th>\n",
       "      <td>6</td>\n",
       "      <td>1215</td>\n",
       "      <td>Andhra Pradesh</td>\n",
       "      <td>Chittoor</td>\n",
       "      <td>Chittoor</td>\n",
       "    </tr>\n",
       "    <tr>\n",
       "      <th>6</th>\n",
       "      <td>7</td>\n",
       "      <td>1216</td>\n",
       "      <td>Andhra Pradesh</td>\n",
       "      <td>West Godavari</td>\n",
       "      <td>Eluru</td>\n",
       "    </tr>\n",
       "    <tr>\n",
       "      <th>7</th>\n",
       "      <td>8</td>\n",
       "      <td>1217</td>\n",
       "      <td>Andhra Pradesh</td>\n",
       "      <td>Anantapur</td>\n",
       "      <td>Gooty</td>\n",
       "    </tr>\n",
       "    <tr>\n",
       "      <th>8</th>\n",
       "      <td>9</td>\n",
       "      <td>1218</td>\n",
       "      <td>Andhra Pradesh</td>\n",
       "      <td>Nellore</td>\n",
       "      <td>Gudur</td>\n",
       "    </tr>\n",
       "    <tr>\n",
       "      <th>9</th>\n",
       "      <td>10</td>\n",
       "      <td>1219</td>\n",
       "      <td>Andhra Pradesh</td>\n",
       "      <td>YSR Kadapa</td>\n",
       "      <td>Kadapa</td>\n",
       "    </tr>\n",
       "    <tr>\n",
       "      <th>10</th>\n",
       "      <td>11</td>\n",
       "      <td>1220</td>\n",
       "      <td>Andhra Pradesh</td>\n",
       "      <td>East Godavari</td>\n",
       "      <td>Kakinada</td>\n",
       "    </tr>\n",
       "    <tr>\n",
       "      <th>11</th>\n",
       "      <td>12</td>\n",
       "      <td>1221</td>\n",
       "      <td>Andhra Pradesh</td>\n",
       "      <td>Kurnool</td>\n",
       "      <td>Nandyal</td>\n",
       "    </tr>\n",
       "    <tr>\n",
       "      <th>12</th>\n",
       "      <td>13</td>\n",
       "      <td>1222</td>\n",
       "      <td>Andhra Pradesh</td>\n",
       "      <td>Prakasam</td>\n",
       "      <td>Ongole</td>\n",
       "    </tr>\n",
       "    <tr>\n",
       "      <th>13</th>\n",
       "      <td>14</td>\n",
       "      <td>1223</td>\n",
       "      <td>Andhra Pradesh</td>\n",
       "      <td>Ysr Kadapa</td>\n",
       "      <td>Proddatur</td>\n",
       "    </tr>\n",
       "    <tr>\n",
       "      <th>14</th>\n",
       "      <td>15</td>\n",
       "      <td>1224</td>\n",
       "      <td>Andhra Pradesh</td>\n",
       "      <td>East Godavari</td>\n",
       "      <td>Rajahmundry</td>\n",
       "    </tr>\n",
       "    <tr>\n",
       "      <th>15</th>\n",
       "      <td>16</td>\n",
       "      <td>1225</td>\n",
       "      <td>Andhra Pradesh</td>\n",
       "      <td>Srikakulam</td>\n",
       "      <td>Srikakulam</td>\n",
       "    </tr>\n",
       "    <tr>\n",
       "      <th>16</th>\n",
       "      <td>17</td>\n",
       "      <td>1226</td>\n",
       "      <td>Andhra Pradesh</td>\n",
       "      <td>East Godavari</td>\n",
       "      <td>Surampalem</td>\n",
       "    </tr>\n",
       "    <tr>\n",
       "      <th>17</th>\n",
       "      <td>18</td>\n",
       "      <td>1227</td>\n",
       "      <td>Andhra Pradesh</td>\n",
       "      <td>West Godavari</td>\n",
       "      <td>Tadepalligudem</td>\n",
       "    </tr>\n",
       "    <tr>\n",
       "      <th>18</th>\n",
       "      <td>19</td>\n",
       "      <td>1228</td>\n",
       "      <td>Andhra Pradesh</td>\n",
       "      <td>West Godavari</td>\n",
       "      <td>Tanuku</td>\n",
       "    </tr>\n",
       "    <tr>\n",
       "      <th>19</th>\n",
       "      <td>20</td>\n",
       "      <td>1229</td>\n",
       "      <td>Andhra Pradesh</td>\n",
       "      <td>Vizianagaram</td>\n",
       "      <td>Vizianagaram</td>\n",
       "    </tr>\n",
       "  </tbody>\n",
       "</table>\n",
       "</div>"
      ],
      "text/plain": [
       "   S. No.  City Code                           State       District  \\\n",
       "0       1       1101  Andaman & Nicobar Islands (UT)  South Andaman   \n",
       "1       2       1211                  Andhra Pradesh         Guntur   \n",
       "2       3       1212                  Andhra Pradesh      Anantapur   \n",
       "3       4       1213                  Andhra Pradesh  West Godavari   \n",
       "4       5       1214                  Andhra Pradesh       Prakasam   \n",
       "5       6       1215                  Andhra Pradesh       Chittoor   \n",
       "6       7       1216                  Andhra Pradesh  West Godavari   \n",
       "7       8       1217                  Andhra Pradesh      Anantapur   \n",
       "8       9       1218                  Andhra Pradesh        Nellore   \n",
       "9      10       1219                  Andhra Pradesh     YSR Kadapa   \n",
       "10     11       1220                  Andhra Pradesh  East Godavari   \n",
       "11     12       1221                  Andhra Pradesh        Kurnool   \n",
       "12     13       1222                  Andhra Pradesh       Prakasam   \n",
       "13     14       1223                  Andhra Pradesh     Ysr Kadapa   \n",
       "14     15       1224                  Andhra Pradesh  East Godavari   \n",
       "15     16       1225                  Andhra Pradesh     Srikakulam   \n",
       "16     17       1226                  Andhra Pradesh  East Godavari   \n",
       "17     18       1227                  Andhra Pradesh  West Godavari   \n",
       "18     19       1228                  Andhra Pradesh  West Godavari   \n",
       "19     20       1229                  Andhra Pradesh   Vizianagaram   \n",
       "\n",
       "              City  \n",
       "0       Port Blair  \n",
       "1       Amaravathi  \n",
       "2        Anantapur  \n",
       "3       Bhimavaram  \n",
       "4          Chirala  \n",
       "5         Chittoor  \n",
       "6            Eluru  \n",
       "7            Gooty  \n",
       "8            Gudur  \n",
       "9           Kadapa  \n",
       "10        Kakinada  \n",
       "11         Nandyal  \n",
       "12          Ongole  \n",
       "13       Proddatur  \n",
       "14     Rajahmundry  \n",
       "15      Srikakulam  \n",
       "16      Surampalem  \n",
       "17  Tadepalligudem  \n",
       "18          Tanuku  \n",
       "19    Vizianagaram  "
      ]
     },
     "execution_count": 4,
     "metadata": {},
     "output_type": "execute_result"
    }
   ],
   "source": [
    "df.head(20)   "
   ]
  },
  {
   "cell_type": "code",
   "execution_count": 6,
   "metadata": {},
   "outputs": [
    {
     "name": "stderr",
     "output_type": "stream",
     "text": [
      "Downloading PDFs for City Code 1101: 0file [00:00, ?file/s]"
     ]
    },
    {
     "name": "stdout",
     "output_type": "stream",
     "text": [
      "Attempting to download: https://neetfs.ntaonline.in/NEET_2024_Result/110101.pdf\n"
     ]
    },
    {
     "name": "stderr",
     "output_type": "stream",
     "text": [
      "Downloading PDFs for City Code 1101: 1file [00:01,  1.41s/file]"
     ]
    },
    {
     "name": "stdout",
     "output_type": "stream",
     "text": [
      "Response status code: 200\n",
      "Downloaded: https://neetfs.ntaonline.in/NEET_2024_Result/110101.pdf\n",
      "Attempting to download: https://neetfs.ntaonline.in/NEET_2024_Result/110102.pdf\n"
     ]
    },
    {
     "name": "stderr",
     "output_type": "stream",
     "text": [
      "Downloading PDFs for City Code 1101: 2file [00:02,  1.40s/file]"
     ]
    },
    {
     "name": "stdout",
     "output_type": "stream",
     "text": [
      "Response status code: 200\n",
      "Downloaded: https://neetfs.ntaonline.in/NEET_2024_Result/110102.pdf\n",
      "Attempting to download: https://neetfs.ntaonline.in/NEET_2024_Result/110103.pdf\n"
     ]
    },
    {
     "name": "stderr",
     "output_type": "stream",
     "text": [
      "Downloading PDFs for City Code 1101: 3file [00:04,  1.31s/file]"
     ]
    },
    {
     "name": "stdout",
     "output_type": "stream",
     "text": [
      "Response status code: 200\n",
      "Downloaded: https://neetfs.ntaonline.in/NEET_2024_Result/110103.pdf\n",
      "Attempting to download: https://neetfs.ntaonline.in/NEET_2024_Result/110104.pdf\n"
     ]
    },
    {
     "name": "stderr",
     "output_type": "stream",
     "text": [
      "Downloading PDFs for City Code 1101: 3file [00:05,  1.77s/file]\n"
     ]
    },
    {
     "name": "stdout",
     "output_type": "stream",
     "text": [
      "Response status code: 404\n"
     ]
    },
    {
     "name": "stderr",
     "output_type": "stream",
     "text": [
      "Downloading PDFs for City Code 1211: 0file [00:00, ?file/s]"
     ]
    },
    {
     "name": "stdout",
     "output_type": "stream",
     "text": [
      "Attempting to download: https://neetfs.ntaonline.in/NEET_2024_Result/121101.pdf\n"
     ]
    },
    {
     "name": "stderr",
     "output_type": "stream",
     "text": [
      "Downloading PDFs for City Code 1211: 0file [00:01, ?file/s]\n"
     ]
    },
    {
     "name": "stdout",
     "output_type": "stream",
     "text": [
      "Response status code: 404\n"
     ]
    },
    {
     "name": "stderr",
     "output_type": "stream",
     "text": [
      "Downloading PDFs for City Code 1212: 0file [00:00, ?file/s]"
     ]
    },
    {
     "name": "stdout",
     "output_type": "stream",
     "text": [
      "Attempting to download: https://neetfs.ntaonline.in/NEET_2024_Result/121201.pdf\n"
     ]
    },
    {
     "name": "stderr",
     "output_type": "stream",
     "text": [
      "Downloading PDFs for City Code 1212: 1file [00:01,  1.46s/file]"
     ]
    },
    {
     "name": "stdout",
     "output_type": "stream",
     "text": [
      "Response status code: 200\n",
      "Downloaded: https://neetfs.ntaonline.in/NEET_2024_Result/121201.pdf\n",
      "Attempting to download: https://neetfs.ntaonline.in/NEET_2024_Result/121202.pdf\n"
     ]
    },
    {
     "name": "stderr",
     "output_type": "stream",
     "text": [
      "Downloading PDFs for City Code 1212: 2file [00:02,  1.33s/file]"
     ]
    },
    {
     "name": "stdout",
     "output_type": "stream",
     "text": [
      "Response status code: 200\n",
      "Downloaded: https://neetfs.ntaonline.in/NEET_2024_Result/121202.pdf\n",
      "Attempting to download: https://neetfs.ntaonline.in/NEET_2024_Result/121203.pdf\n"
     ]
    },
    {
     "name": "stderr",
     "output_type": "stream",
     "text": [
      "Downloading PDFs for City Code 1212: 3file [00:04,  1.34s/file]"
     ]
    },
    {
     "name": "stdout",
     "output_type": "stream",
     "text": [
      "Response status code: 200\n",
      "Downloaded: https://neetfs.ntaonline.in/NEET_2024_Result/121203.pdf\n",
      "Attempting to download: https://neetfs.ntaonline.in/NEET_2024_Result/121204.pdf\n"
     ]
    },
    {
     "name": "stderr",
     "output_type": "stream",
     "text": [
      "Downloading PDFs for City Code 1212: 4file [00:05,  1.29s/file]"
     ]
    },
    {
     "name": "stdout",
     "output_type": "stream",
     "text": [
      "Response status code: 200\n",
      "Downloaded: https://neetfs.ntaonline.in/NEET_2024_Result/121204.pdf\n",
      "Attempting to download: https://neetfs.ntaonline.in/NEET_2024_Result/121205.pdf\n"
     ]
    },
    {
     "name": "stderr",
     "output_type": "stream",
     "text": [
      "Downloading PDFs for City Code 1212: 4file [00:06,  1.61s/file]\n"
     ]
    },
    {
     "name": "stdout",
     "output_type": "stream",
     "text": [
      "Response status code: 404\n"
     ]
    },
    {
     "name": "stderr",
     "output_type": "stream",
     "text": [
      "Downloading PDFs for City Code 1213: 0file [00:00, ?file/s]"
     ]
    },
    {
     "name": "stdout",
     "output_type": "stream",
     "text": [
      "Attempting to download: https://neetfs.ntaonline.in/NEET_2024_Result/121301.pdf\n"
     ]
    },
    {
     "name": "stderr",
     "output_type": "stream",
     "text": [
      "Downloading PDFs for City Code 1213: 1file [00:01,  1.52s/file]"
     ]
    },
    {
     "name": "stdout",
     "output_type": "stream",
     "text": [
      "Response status code: 200\n",
      "Downloaded: https://neetfs.ntaonline.in/NEET_2024_Result/121301.pdf\n",
      "Attempting to download: https://neetfs.ntaonline.in/NEET_2024_Result/121302.pdf\n"
     ]
    },
    {
     "name": "stderr",
     "output_type": "stream",
     "text": [
      "Downloading PDFs for City Code 1213: 1file [00:02,  2.15s/file]\n"
     ]
    },
    {
     "name": "stdout",
     "output_type": "stream",
     "text": [
      "Response status code: 404\n"
     ]
    },
    {
     "name": "stderr",
     "output_type": "stream",
     "text": [
      "Downloading PDFs for City Code 1214: 0file [00:00, ?file/s]"
     ]
    },
    {
     "name": "stdout",
     "output_type": "stream",
     "text": [
      "Attempting to download: https://neetfs.ntaonline.in/NEET_2024_Result/121401.pdf\n"
     ]
    },
    {
     "name": "stderr",
     "output_type": "stream",
     "text": [
      "Downloading PDFs for City Code 1214: 1file [00:02,  2.00s/file]"
     ]
    },
    {
     "name": "stdout",
     "output_type": "stream",
     "text": [
      "Response status code: 200\n",
      "Downloaded: https://neetfs.ntaonline.in/NEET_2024_Result/121401.pdf\n",
      "Attempting to download: https://neetfs.ntaonline.in/NEET_2024_Result/121402.pdf\n"
     ]
    },
    {
     "name": "stderr",
     "output_type": "stream",
     "text": [
      "Downloading PDFs for City Code 1214: 1file [00:03,  3.27s/file]\n"
     ]
    },
    {
     "name": "stdout",
     "output_type": "stream",
     "text": [
      "Response status code: 404\n"
     ]
    },
    {
     "name": "stderr",
     "output_type": "stream",
     "text": [
      "Downloading PDFs for City Code 1215: 0file [00:00, ?file/s]"
     ]
    },
    {
     "name": "stdout",
     "output_type": "stream",
     "text": [
      "Attempting to download: https://neetfs.ntaonline.in/NEET_2024_Result/121501.pdf\n"
     ]
    },
    {
     "name": "stderr",
     "output_type": "stream",
     "text": [
      "Downloading PDFs for City Code 1215: 1file [00:01,  1.20s/file]"
     ]
    },
    {
     "name": "stdout",
     "output_type": "stream",
     "text": [
      "Response status code: 200\n",
      "Downloaded: https://neetfs.ntaonline.in/NEET_2024_Result/121501.pdf\n",
      "Attempting to download: https://neetfs.ntaonline.in/NEET_2024_Result/121502.pdf\n"
     ]
    },
    {
     "name": "stderr",
     "output_type": "stream",
     "text": [
      "Downloading PDFs for City Code 1215: 2file [00:02,  1.23s/file]"
     ]
    },
    {
     "name": "stdout",
     "output_type": "stream",
     "text": [
      "Response status code: 200\n",
      "Downloaded: https://neetfs.ntaonline.in/NEET_2024_Result/121502.pdf\n",
      "Attempting to download: https://neetfs.ntaonline.in/NEET_2024_Result/121503.pdf\n"
     ]
    },
    {
     "name": "stderr",
     "output_type": "stream",
     "text": [
      "Downloading PDFs for City Code 1215: 3file [00:03,  1.27s/file]"
     ]
    },
    {
     "name": "stdout",
     "output_type": "stream",
     "text": [
      "Response status code: 200\n",
      "Downloaded: https://neetfs.ntaonline.in/NEET_2024_Result/121503.pdf\n",
      "Attempting to download: https://neetfs.ntaonline.in/NEET_2024_Result/121504.pdf\n"
     ]
    },
    {
     "name": "stderr",
     "output_type": "stream",
     "text": [
      "Downloading PDFs for City Code 1215: 3file [00:05,  1.67s/file]\n"
     ]
    },
    {
     "name": "stdout",
     "output_type": "stream",
     "text": [
      "Response status code: 404\n"
     ]
    },
    {
     "name": "stderr",
     "output_type": "stream",
     "text": [
      "Downloading PDFs for City Code 1216: 0file [00:00, ?file/s]"
     ]
    },
    {
     "name": "stdout",
     "output_type": "stream",
     "text": [
      "Attempting to download: https://neetfs.ntaonline.in/NEET_2024_Result/121601.pdf\n"
     ]
    },
    {
     "name": "stderr",
     "output_type": "stream",
     "text": [
      "Downloading PDFs for City Code 1216: 1file [00:00,  1.29file/s]"
     ]
    },
    {
     "name": "stdout",
     "output_type": "stream",
     "text": [
      "Response status code: 200\n",
      "Downloaded: https://neetfs.ntaonline.in/NEET_2024_Result/121601.pdf\n",
      "Attempting to download: https://neetfs.ntaonline.in/NEET_2024_Result/121602.pdf\n"
     ]
    },
    {
     "name": "stderr",
     "output_type": "stream",
     "text": [
      "Downloading PDFs for City Code 1216: 2file [00:01,  1.60file/s]"
     ]
    },
    {
     "name": "stdout",
     "output_type": "stream",
     "text": [
      "Response status code: 200\n",
      "Downloaded: https://neetfs.ntaonline.in/NEET_2024_Result/121602.pdf\n",
      "Attempting to download: https://neetfs.ntaonline.in/NEET_2024_Result/121603.pdf\n"
     ]
    },
    {
     "name": "stderr",
     "output_type": "stream",
     "text": [
      "Downloading PDFs for City Code 1216: 3file [00:02,  1.11file/s]"
     ]
    },
    {
     "name": "stdout",
     "output_type": "stream",
     "text": [
      "Response status code: 200\n",
      "Downloaded: https://neetfs.ntaonline.in/NEET_2024_Result/121603.pdf\n",
      "Attempting to download: https://neetfs.ntaonline.in/NEET_2024_Result/121604.pdf\n"
     ]
    },
    {
     "name": "stderr",
     "output_type": "stream",
     "text": [
      "Downloading PDFs for City Code 1216: 3file [00:03,  1.23s/file]\n"
     ]
    },
    {
     "name": "stdout",
     "output_type": "stream",
     "text": [
      "Response status code: 404\n"
     ]
    },
    {
     "name": "stderr",
     "output_type": "stream",
     "text": [
      "Downloading PDFs for City Code 1217: 0file [00:00, ?file/s]"
     ]
    },
    {
     "name": "stdout",
     "output_type": "stream",
     "text": [
      "Attempting to download: https://neetfs.ntaonline.in/NEET_2024_Result/121701.pdf\n"
     ]
    },
    {
     "name": "stderr",
     "output_type": "stream",
     "text": [
      "Downloading PDFs for City Code 1217: 1file [00:01,  1.28s/file]"
     ]
    },
    {
     "name": "stdout",
     "output_type": "stream",
     "text": [
      "Response status code: 200\n",
      "Downloaded: https://neetfs.ntaonline.in/NEET_2024_Result/121701.pdf\n",
      "Attempting to download: https://neetfs.ntaonline.in/NEET_2024_Result/121702.pdf\n"
     ]
    },
    {
     "name": "stderr",
     "output_type": "stream",
     "text": [
      "Downloading PDFs for City Code 1217: 1file [00:02,  2.46s/file]\n"
     ]
    },
    {
     "name": "stdout",
     "output_type": "stream",
     "text": [
      "Response status code: 404\n"
     ]
    },
    {
     "name": "stderr",
     "output_type": "stream",
     "text": [
      "Downloading PDFs for City Code 1218: 0file [00:00, ?file/s]"
     ]
    },
    {
     "name": "stdout",
     "output_type": "stream",
     "text": [
      "Attempting to download: https://neetfs.ntaonline.in/NEET_2024_Result/121801.pdf\n"
     ]
    },
    {
     "name": "stderr",
     "output_type": "stream",
     "text": [
      "Downloading PDFs for City Code 1218: 1file [00:01,  1.21s/file]"
     ]
    },
    {
     "name": "stdout",
     "output_type": "stream",
     "text": [
      "Response status code: 200\n",
      "Downloaded: https://neetfs.ntaonline.in/NEET_2024_Result/121801.pdf\n",
      "Attempting to download: https://neetfs.ntaonline.in/NEET_2024_Result/121802.pdf\n"
     ]
    },
    {
     "name": "stderr",
     "output_type": "stream",
     "text": [
      "Downloading PDFs for City Code 1218: 1file [00:02,  2.44s/file]\n"
     ]
    },
    {
     "name": "stdout",
     "output_type": "stream",
     "text": [
      "Response status code: 404\n"
     ]
    },
    {
     "name": "stderr",
     "output_type": "stream",
     "text": [
      "Downloading PDFs for City Code 1219: 0file [00:00, ?file/s]"
     ]
    },
    {
     "name": "stdout",
     "output_type": "stream",
     "text": [
      "Attempting to download: https://neetfs.ntaonline.in/NEET_2024_Result/121901.pdf\n"
     ]
    },
    {
     "name": "stderr",
     "output_type": "stream",
     "text": [
      "Downloading PDFs for City Code 1219: 1file [00:01,  1.47s/file]"
     ]
    },
    {
     "name": "stdout",
     "output_type": "stream",
     "text": [
      "Response status code: 200\n",
      "Downloaded: https://neetfs.ntaonline.in/NEET_2024_Result/121901.pdf\n",
      "Attempting to download: https://neetfs.ntaonline.in/NEET_2024_Result/121902.pdf\n"
     ]
    },
    {
     "name": "stderr",
     "output_type": "stream",
     "text": [
      "Downloading PDFs for City Code 1219: 2file [00:02,  1.39s/file]"
     ]
    },
    {
     "name": "stdout",
     "output_type": "stream",
     "text": [
      "Response status code: 200\n",
      "Downloaded: https://neetfs.ntaonline.in/NEET_2024_Result/121902.pdf\n",
      "Attempting to download: https://neetfs.ntaonline.in/NEET_2024_Result/121903.pdf\n"
     ]
    },
    {
     "name": "stderr",
     "output_type": "stream",
     "text": [
      "Downloading PDFs for City Code 1219: 3file [00:04,  1.30s/file]"
     ]
    },
    {
     "name": "stdout",
     "output_type": "stream",
     "text": [
      "Response status code: 200\n",
      "Downloaded: https://neetfs.ntaonline.in/NEET_2024_Result/121903.pdf\n",
      "Attempting to download: https://neetfs.ntaonline.in/NEET_2024_Result/121904.pdf\n"
     ]
    },
    {
     "name": "stderr",
     "output_type": "stream",
     "text": [
      "Downloading PDFs for City Code 1219: 3file [00:05,  1.75s/file]\n"
     ]
    },
    {
     "name": "stdout",
     "output_type": "stream",
     "text": [
      "Response status code: 404\n"
     ]
    },
    {
     "name": "stderr",
     "output_type": "stream",
     "text": [
      "Downloading PDFs for City Code 1220: 0file [00:00, ?file/s]"
     ]
    },
    {
     "name": "stdout",
     "output_type": "stream",
     "text": [
      "Attempting to download: https://neetfs.ntaonline.in/NEET_2024_Result/122001.pdf\n"
     ]
    }
   ],
   "source": [
    "import os\n",
    "import requests\n",
    "from tqdm import tqdm\n",
    "import pandas as pd\n",
    "\n",
    "# Ensure the 'City Code' is treated as an integer\n",
    "df['City Code'] = df['City Code'].astype(int)\n",
    "\n",
    "# Create a subfolder in the root directory\n",
    "subfolder_name = \"NEET_2024_PDFs\"\n",
    "if not os.path.exists(subfolder_name):\n",
    "    os.makedirs(subfolder_name)\n",
    "\n",
    "# Define the base URL\n",
    "base_url = \"https://neetfs.ntaonline.in/NEET_2024_Result/\"\n",
    "\n",
    "# Function to download a PDF\n",
    "def download_pdf(pdf_url, save_path):\n",
    "    try:\n",
    "        print(f\"Attempting to download: {pdf_url}\")  # Debugging print\n",
    "        response = requests.get(pdf_url)\n",
    "        print(f\"Response status code: {response.status_code}\")  # Debugging print\n",
    "        if response.status_code == 404:\n",
    "            return False  # Return False if 404 error\n",
    "        response.raise_for_status()  # Check if the request was successful\n",
    "        with open(save_path, 'wb') as f:\n",
    "            f.write(response.content)\n",
    "        print(f\"Downloaded: {pdf_url}\")  # Confirm download\n",
    "    except requests.exceptions.HTTPError as err:\n",
    "        if err.response.status_code == 404:\n",
    "            print(f\"404 Error: {pdf_url} not found.\")  # Print 404 error\n",
    "            return False  # Return False if 404 error\n",
    "        else:\n",
    "            print(f\"HTTP error occurred: {err}\")\n",
    "    except Exception as err:\n",
    "        print(f\"Other error occurred: {err}\")\n",
    "    return True\n",
    "\n",
    "# Iterate over the city codes in the DataFrame\n",
    "for index, row in df.iterrows():\n",
    "    city_code = row['City Code']\n",
    "    counter = 1\n",
    "    with tqdm(desc=f\"Downloading PDFs for City Code {city_code:04d}\", unit=\"file\") as pbar:\n",
    "        while True:\n",
    "            pdf_url = f\"{base_url}{city_code:04d}{counter:02d}.pdf\"\n",
    "            save_path = os.path.join(subfolder_name, f\"{city_code:04d}{counter:02d}.pdf\")\n",
    "            if not download_pdf(pdf_url, save_path):\n",
    "                break  # Stop if 404 error is encountered\n",
    "            pbar.update(1)\n",
    "            counter += 1\n",
    "\n",
    "print(\"All PDFs have been downloaded.\")"
   ]
  },
  {
   "cell_type": "code",
   "execution_count": null,
   "metadata": {},
   "outputs": [],
   "source": []
  }
 ],
 "metadata": {
  "kernelspec": {
   "display_name": "Python 3",
   "language": "python",
   "name": "python3"
  },
  "language_info": {
   "codemirror_mode": {
    "name": "ipython",
    "version": 3
   },
   "file_extension": ".py",
   "mimetype": "text/x-python",
   "name": "python",
   "nbconvert_exporter": "python",
   "pygments_lexer": "ipython3",
   "version": "3.11.6"
  }
 },
 "nbformat": 4,
 "nbformat_minor": 2
}
